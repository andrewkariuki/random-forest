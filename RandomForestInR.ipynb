{
 "cells": [
  {
   "cell_type": "code",
   "execution_count": 1,
   "id": "85a90b55",
   "metadata": {
    "scrolled": true
   },
   "outputs": [
    {
     "name": "stderr",
     "output_type": "stream",
     "text": [
      "randomForest 4.6-14\n",
      "\n",
      "Type rfNews() to see new features/changes/bug fixes.\n",
      "\n",
      "Loading required package: caTools\n",
      "\n"
     ]
    }
   ],
   "source": [
    "library(randomForest)\n",
    "require(caTools)"
   ]
  },
  {
   "cell_type": "code",
   "execution_count": 2,
   "id": "b5f3effe",
   "metadata": {},
   "outputs": [],
   "source": [
    "books <- read.csv(\n",
    "  \"books.csv\",header = TRUE, stringsAsFactors = FALSE\n",
    ")"
   ]
  },
  {
   "cell_type": "code",
   "execution_count": 3,
   "id": "8196bc66",
   "metadata": {},
   "outputs": [
    {
     "data": {
      "text/html": [
       "<style>\n",
       ".list-inline {list-style: none; margin:0; padding: 0}\n",
       ".list-inline>li {display: inline-block}\n",
       ".list-inline>li:not(:last-child)::after {content: \"\\00b7\"; padding: 0 .5ex}\n",
       "</style>\n",
       "<ol class=list-inline><li>11131</li><li>12</li></ol>\n"
      ],
      "text/latex": [
       "\\begin{enumerate*}\n",
       "\\item 11131\n",
       "\\item 12\n",
       "\\end{enumerate*}\n"
      ],
      "text/markdown": [
       "1. 11131\n",
       "2. 12\n",
       "\n",
       "\n"
      ],
      "text/plain": [
       "[1] 11131    12"
      ]
     },
     "metadata": {},
     "output_type": "display_data"
    }
   ],
   "source": [
    "dim(books)"
   ]
  },
  {
   "cell_type": "code",
   "execution_count": null,
   "id": "a99ce85c",
   "metadata": {},
   "outputs": [],
   "source": [
    "print(books)"
   ]
  },
  {
   "cell_type": "code",
   "execution_count": 5,
   "id": "5fb76e9c",
   "metadata": {},
   "outputs": [
    {
     "data": {
      "text/html": [
       "<table class=\"dataframe\">\n",
       "<caption>A data.frame: 6 × 12</caption>\n",
       "<thead>\n",
       "\t<tr><th></th><th scope=col>bookID</th><th scope=col>title</th><th scope=col>authors</th><th scope=col>average_rating</th><th scope=col>isbn</th><th scope=col>isbn13</th><th scope=col>language_code</th><th scope=col>num_pages</th><th scope=col>ratings_count</th><th scope=col>text_reviews_count</th><th scope=col>publication_date</th><th scope=col>publisher</th></tr>\n",
       "\t<tr><th></th><th scope=col>&lt;chr&gt;</th><th scope=col>&lt;chr&gt;</th><th scope=col>&lt;chr&gt;</th><th scope=col>&lt;chr&gt;</th><th scope=col>&lt;chr&gt;</th><th scope=col>&lt;chr&gt;</th><th scope=col>&lt;chr&gt;</th><th scope=col>&lt;chr&gt;</th><th scope=col>&lt;int&gt;</th><th scope=col>&lt;int&gt;</th><th scope=col>&lt;chr&gt;</th><th scope=col>&lt;chr&gt;</th></tr>\n",
       "</thead>\n",
       "<tbody>\n",
       "\t<tr><th scope=row>1</th><td>1</td><td>Harry Potter and the Half-Blood Prince (Harry Potter  #6)                            </td><td>J.K. Rowling/Mary GrandPrÃ©</td><td>4.57</td><td>0439785960</td><td>9780439785969</td><td>eng  </td><td>652 </td><td>2095690</td><td>27591</td><td>9/16/2006</td><td>Scholastic Inc.</td></tr>\n",
       "\t<tr><th scope=row>2</th><td>2</td><td>Harry Potter and the Order of the Phoenix (Harry Potter  #5)                         </td><td>J.K. Rowling/Mary GrandPrÃ©</td><td>4.49</td><td>0439358078</td><td>9780439358071</td><td>eng  </td><td>870 </td><td>2153167</td><td>29221</td><td>9/1/2004 </td><td>Scholastic Inc.</td></tr>\n",
       "\t<tr><th scope=row>3</th><td>4</td><td>Harry Potter and the Chamber of Secrets (Harry Potter  #2)                           </td><td>J.K. Rowling               </td><td>4.42</td><td>0439554896</td><td>9780439554893</td><td>eng  </td><td>352 </td><td>   6333</td><td>  244</td><td>11/1/2003</td><td>Scholastic     </td></tr>\n",
       "\t<tr><th scope=row>4</th><td>5</td><td>Harry Potter and the Prisoner of Azkaban (Harry Potter  #3)                          </td><td>J.K. Rowling/Mary GrandPrÃ©</td><td>4.56</td><td>043965548X</td><td>9780439655484</td><td>eng  </td><td>435 </td><td>2339585</td><td>36325</td><td>5/1/2004 </td><td>Scholastic Inc.</td></tr>\n",
       "\t<tr><th scope=row>5</th><td>8</td><td>Harry Potter Boxed Set  Books 1-5 (Harry Potter  #1-5)                               </td><td>J.K. Rowling/Mary GrandPrÃ©</td><td>4.78</td><td>0439682584</td><td>9780439682589</td><td>eng  </td><td>2690</td><td>  41428</td><td>  164</td><td>9/13/2004</td><td>Scholastic     </td></tr>\n",
       "\t<tr><th scope=row>6</th><td>9</td><td>Unauthorized Harry Potter Book Seven News: Half-Blood Prince Analysis and Speculation</td><td>W. Frederick Zimmerman     </td><td>3.74</td><td>0976540606</td><td>9780976540601</td><td>en-US</td><td>152 </td><td>     19</td><td>    1</td><td>4/26/2005</td><td>Nimble Books   </td></tr>\n",
       "</tbody>\n",
       "</table>\n"
      ],
      "text/latex": [
       "A data.frame: 6 × 12\n",
       "\\begin{tabular}{r|llllllllllll}\n",
       "  & bookID & title & authors & average\\_rating & isbn & isbn13 & language\\_code & num\\_pages & ratings\\_count & text\\_reviews\\_count & publication\\_date & publisher\\\\\n",
       "  & <chr> & <chr> & <chr> & <chr> & <chr> & <chr> & <chr> & <chr> & <int> & <int> & <chr> & <chr>\\\\\n",
       "\\hline\n",
       "\t1 & 1 & Harry Potter and the Half-Blood Prince (Harry Potter  \\#6)                             & J.K. Rowling/Mary GrandPrÃ© & 4.57 & 0439785960 & 9780439785969 & eng   & 652  & 2095690 & 27591 & 9/16/2006 & Scholastic Inc.\\\\\n",
       "\t2 & 2 & Harry Potter and the Order of the Phoenix (Harry Potter  \\#5)                          & J.K. Rowling/Mary GrandPrÃ© & 4.49 & 0439358078 & 9780439358071 & eng   & 870  & 2153167 & 29221 & 9/1/2004  & Scholastic Inc.\\\\\n",
       "\t3 & 4 & Harry Potter and the Chamber of Secrets (Harry Potter  \\#2)                            & J.K. Rowling                & 4.42 & 0439554896 & 9780439554893 & eng   & 352  &    6333 &   244 & 11/1/2003 & Scholastic     \\\\\n",
       "\t4 & 5 & Harry Potter and the Prisoner of Azkaban (Harry Potter  \\#3)                           & J.K. Rowling/Mary GrandPrÃ© & 4.56 & 043965548X & 9780439655484 & eng   & 435  & 2339585 & 36325 & 5/1/2004  & Scholastic Inc.\\\\\n",
       "\t5 & 8 & Harry Potter Boxed Set  Books 1-5 (Harry Potter  \\#1-5)                                & J.K. Rowling/Mary GrandPrÃ© & 4.78 & 0439682584 & 9780439682589 & eng   & 2690 &   41428 &   164 & 9/13/2004 & Scholastic     \\\\\n",
       "\t6 & 9 & Unauthorized Harry Potter Book Seven News: Half-Blood Prince Analysis and Speculation & W. Frederick Zimmerman      & 3.74 & 0976540606 & 9780976540601 & en-US & 152  &      19 &     1 & 4/26/2005 & Nimble Books   \\\\\n",
       "\\end{tabular}\n"
      ],
      "text/markdown": [
       "\n",
       "A data.frame: 6 × 12\n",
       "\n",
       "| <!--/--> | bookID &lt;chr&gt; | title &lt;chr&gt; | authors &lt;chr&gt; | average_rating &lt;chr&gt; | isbn &lt;chr&gt; | isbn13 &lt;chr&gt; | language_code &lt;chr&gt; | num_pages &lt;chr&gt; | ratings_count &lt;int&gt; | text_reviews_count &lt;int&gt; | publication_date &lt;chr&gt; | publisher &lt;chr&gt; |\n",
       "|---|---|---|---|---|---|---|---|---|---|---|---|---|\n",
       "| 1 | 1 | Harry Potter and the Half-Blood Prince (Harry Potter  #6)                             | J.K. Rowling/Mary GrandPrÃ© | 4.57 | 0439785960 | 9780439785969 | eng   | 652  | 2095690 | 27591 | 9/16/2006 | Scholastic Inc. |\n",
       "| 2 | 2 | Harry Potter and the Order of the Phoenix (Harry Potter  #5)                          | J.K. Rowling/Mary GrandPrÃ© | 4.49 | 0439358078 | 9780439358071 | eng   | 870  | 2153167 | 29221 | 9/1/2004  | Scholastic Inc. |\n",
       "| 3 | 4 | Harry Potter and the Chamber of Secrets (Harry Potter  #2)                            | J.K. Rowling                | 4.42 | 0439554896 | 9780439554893 | eng   | 352  |    6333 |   244 | 11/1/2003 | Scholastic      |\n",
       "| 4 | 5 | Harry Potter and the Prisoner of Azkaban (Harry Potter  #3)                           | J.K. Rowling/Mary GrandPrÃ© | 4.56 | 043965548X | 9780439655484 | eng   | 435  | 2339585 | 36325 | 5/1/2004  | Scholastic Inc. |\n",
       "| 5 | 8 | Harry Potter Boxed Set  Books 1-5 (Harry Potter  #1-5)                                | J.K. Rowling/Mary GrandPrÃ© | 4.78 | 0439682584 | 9780439682589 | eng   | 2690 |   41428 |   164 | 9/13/2004 | Scholastic      |\n",
       "| 6 | 9 | Unauthorized Harry Potter Book Seven News: Half-Blood Prince Analysis and Speculation | W. Frederick Zimmerman      | 3.74 | 0976540606 | 9780976540601 | en-US | 152  |      19 |     1 | 4/26/2005 | Nimble Books    |\n",
       "\n"
      ],
      "text/plain": [
       "  bookID\n",
       "1 1     \n",
       "2 2     \n",
       "3 4     \n",
       "4 5     \n",
       "5 8     \n",
       "6 9     \n",
       "  title                                                                                \n",
       "1 Harry Potter and the Half-Blood Prince (Harry Potter  #6)                            \n",
       "2 Harry Potter and the Order of the Phoenix (Harry Potter  #5)                         \n",
       "3 Harry Potter and the Chamber of Secrets (Harry Potter  #2)                           \n",
       "4 Harry Potter and the Prisoner of Azkaban (Harry Potter  #3)                          \n",
       "5 Harry Potter Boxed Set  Books 1-5 (Harry Potter  #1-5)                               \n",
       "6 Unauthorized Harry Potter Book Seven News: Half-Blood Prince Analysis and Speculation\n",
       "  authors                     average_rating isbn       isbn13       \n",
       "1 J.K. Rowling/Mary GrandPrÃ© 4.57           0439785960 9780439785969\n",
       "2 J.K. Rowling/Mary GrandPrÃ© 4.49           0439358078 9780439358071\n",
       "3 J.K. Rowling                4.42           0439554896 9780439554893\n",
       "4 J.K. Rowling/Mary GrandPrÃ© 4.56           043965548X 9780439655484\n",
       "5 J.K. Rowling/Mary GrandPrÃ© 4.78           0439682584 9780439682589\n",
       "6 W. Frederick Zimmerman      3.74           0976540606 9780976540601\n",
       "  language_code num_pages ratings_count text_reviews_count publication_date\n",
       "1 eng           652       2095690       27591              9/16/2006       \n",
       "2 eng           870       2153167       29221              9/1/2004        \n",
       "3 eng           352          6333         244              11/1/2003       \n",
       "4 eng           435       2339585       36325              5/1/2004        \n",
       "5 eng           2690        41428         164              9/13/2004       \n",
       "6 en-US         152            19           1              4/26/2005       \n",
       "  publisher      \n",
       "1 Scholastic Inc.\n",
       "2 Scholastic Inc.\n",
       "3 Scholastic     \n",
       "4 Scholastic Inc.\n",
       "5 Scholastic     \n",
       "6 Nimble Books   "
      ]
     },
     "metadata": {},
     "output_type": "display_data"
    }
   ],
   "source": [
    "head(books)"
   ]
  },
  {
   "cell_type": "code",
   "execution_count": 6,
   "id": "ddfc68d2",
   "metadata": {},
   "outputs": [],
   "source": [
    "books$num[books$num > 1] <- 1"
   ]
  },
  {
   "cell_type": "code",
   "execution_count": 7,
   "id": "f4ec2866",
   "metadata": {},
   "outputs": [
    {
     "data": {
      "text/plain": [
       "    bookID             title             authors          average_rating    \n",
       " Length:11131       Length:11131       Length:11131       Length:11131      \n",
       " Class :character   Class :character   Class :character   Class :character  \n",
       " Mode  :character   Mode  :character   Mode  :character   Mode  :character  \n",
       "                                                                            \n",
       "                                                                            \n",
       "                                                                            \n",
       "                                                                            \n",
       "     isbn              isbn13          language_code       num_pages        \n",
       " Length:11131       Length:11131       Length:11131       Length:11131      \n",
       " Class :character   Class :character   Class :character   Class :character  \n",
       " Mode  :character   Mode  :character   Mode  :character   Mode  :character  \n",
       "                                                                            \n",
       "                                                                            \n",
       "                                                                            \n",
       "                                                                            \n",
       " ratings_count     text_reviews_count publication_date    publisher        \n",
       " Min.   :      0   Min.   :    0.0    Length:11131       Length:11131      \n",
       " 1st Qu.:    104   1st Qu.:    9.0    Class :character   Class :character  \n",
       " Median :    745   Median :   47.0    Mode  :character   Mode  :character  \n",
       " Mean   :  17936   Mean   :  541.9                                         \n",
       " 3rd Qu.:   4994   3rd Qu.:  237.5                                         \n",
       " Max.   :4597666   Max.   :94265.0                                         \n",
       " NA's   :4         NA's   :4                                               \n",
       "     num           \n",
       " Length:11131      \n",
       " Class :character  \n",
       " Mode  :character  \n",
       "                   \n",
       "                   \n",
       "                   \n",
       "                   "
      ]
     },
     "metadata": {},
     "output_type": "display_data"
    }
   ],
   "source": [
    "summary(books)"
   ]
  },
  {
   "cell_type": "code",
   "execution_count": 8,
   "id": "11e1b145",
   "metadata": {},
   "outputs": [
    {
     "data": {
      "text/html": [
       "<style>\n",
       ".dl-inline {width: auto; margin:0; padding: 0}\n",
       ".dl-inline>dt, .dl-inline>dd {float: none; width: auto; display: inline-block}\n",
       ".dl-inline>dt::after {content: \":\\0020\"; padding-right: .5ex}\n",
       ".dl-inline>dt:not(:first-of-type) {padding-left: .5ex}\n",
       "</style><dl class=dl-inline><dt>bookID</dt><dd>'character'</dd><dt>title</dt><dd>'character'</dd><dt>authors</dt><dd>'character'</dd><dt>average_rating</dt><dd>'character'</dd><dt>isbn</dt><dd>'character'</dd><dt>isbn13</dt><dd>'character'</dd><dt>language_code</dt><dd>'character'</dd><dt>num_pages</dt><dd>'character'</dd><dt>ratings_count</dt><dd>'integer'</dd><dt>text_reviews_count</dt><dd>'integer'</dd><dt>publication_date</dt><dd>'character'</dd><dt>publisher</dt><dd>'character'</dd><dt>num</dt><dd>'character'</dd></dl>\n"
      ],
      "text/latex": [
       "\\begin{description*}\n",
       "\\item[bookID] 'character'\n",
       "\\item[title] 'character'\n",
       "\\item[authors] 'character'\n",
       "\\item[average\\textbackslash{}\\_rating] 'character'\n",
       "\\item[isbn] 'character'\n",
       "\\item[isbn13] 'character'\n",
       "\\item[language\\textbackslash{}\\_code] 'character'\n",
       "\\item[num\\textbackslash{}\\_pages] 'character'\n",
       "\\item[ratings\\textbackslash{}\\_count] 'integer'\n",
       "\\item[text\\textbackslash{}\\_reviews\\textbackslash{}\\_count] 'integer'\n",
       "\\item[publication\\textbackslash{}\\_date] 'character'\n",
       "\\item[publisher] 'character'\n",
       "\\item[num] 'character'\n",
       "\\end{description*}\n"
      ],
      "text/markdown": [
       "bookID\n",
       ":   'character'title\n",
       ":   'character'authors\n",
       ":   'character'average_rating\n",
       ":   'character'isbn\n",
       ":   'character'isbn13\n",
       ":   'character'language_code\n",
       ":   'character'num_pages\n",
       ":   'character'ratings_count\n",
       ":   'integer'text_reviews_count\n",
       ":   'integer'publication_date\n",
       ":   'character'publisher\n",
       ":   'character'num\n",
       ":   'character'\n",
       "\n"
      ],
      "text/plain": [
       "            bookID              title            authors     average_rating \n",
       "       \"character\"        \"character\"        \"character\"        \"character\" \n",
       "              isbn             isbn13      language_code          num_pages \n",
       "       \"character\"        \"character\"        \"character\"        \"character\" \n",
       "     ratings_count text_reviews_count   publication_date          publisher \n",
       "         \"integer\"          \"integer\"        \"character\"        \"character\" \n",
       "               num \n",
       "       \"character\" "
      ]
     },
     "metadata": {},
     "output_type": "display_data"
    }
   ],
   "source": [
    "sapply(books, class)"
   ]
  },
  {
   "cell_type": "code",
   "execution_count": 9,
   "id": "8caed5bb",
   "metadata": {},
   "outputs": [
    {
     "name": "stderr",
     "output_type": "stream",
     "text": [
      "Warning message in eval(substitute(list(...)), `_data`, parent.frame()):\n",
      "\"NAs introduced by coercion\"\n",
      "Warning message in eval(substitute(list(...)), `_data`, parent.frame()):\n",
      "\"NAs introduced by coercion\"\n"
     ]
    }
   ],
   "source": [
    "books <- transform(\n",
    "  books,\n",
    "  bookID=as.integer(bookID),\n",
    "  title=as.character(title),\n",
    "num_pages=as.integer(num_pages),\n",
    "    num=as.factor(num)\n",
    ")"
   ]
  },
  {
   "cell_type": "code",
   "execution_count": 10,
   "id": "c5d31d12",
   "metadata": {},
   "outputs": [
    {
     "data": {
      "text/html": [
       "<style>\n",
       ".dl-inline {width: auto; margin:0; padding: 0}\n",
       ".dl-inline>dt, .dl-inline>dd {float: none; width: auto; display: inline-block}\n",
       ".dl-inline>dt::after {content: \":\\0020\"; padding-right: .5ex}\n",
       ".dl-inline>dt:not(:first-of-type) {padding-left: .5ex}\n",
       "</style><dl class=dl-inline><dt>bookID</dt><dd>'integer'</dd><dt>title</dt><dd>'character'</dd><dt>authors</dt><dd>'character'</dd><dt>average_rating</dt><dd>'character'</dd><dt>isbn</dt><dd>'character'</dd><dt>isbn13</dt><dd>'character'</dd><dt>language_code</dt><dd>'character'</dd><dt>num_pages</dt><dd>'integer'</dd><dt>ratings_count</dt><dd>'integer'</dd><dt>text_reviews_count</dt><dd>'integer'</dd><dt>publication_date</dt><dd>'character'</dd><dt>publisher</dt><dd>'character'</dd><dt>num</dt><dd>'factor'</dd></dl>\n"
      ],
      "text/latex": [
       "\\begin{description*}\n",
       "\\item[bookID] 'integer'\n",
       "\\item[title] 'character'\n",
       "\\item[authors] 'character'\n",
       "\\item[average\\textbackslash{}\\_rating] 'character'\n",
       "\\item[isbn] 'character'\n",
       "\\item[isbn13] 'character'\n",
       "\\item[language\\textbackslash{}\\_code] 'character'\n",
       "\\item[num\\textbackslash{}\\_pages] 'integer'\n",
       "\\item[ratings\\textbackslash{}\\_count] 'integer'\n",
       "\\item[text\\textbackslash{}\\_reviews\\textbackslash{}\\_count] 'integer'\n",
       "\\item[publication\\textbackslash{}\\_date] 'character'\n",
       "\\item[publisher] 'character'\n",
       "\\item[num] 'factor'\n",
       "\\end{description*}\n"
      ],
      "text/markdown": [
       "bookID\n",
       ":   'integer'title\n",
       ":   'character'authors\n",
       ":   'character'average_rating\n",
       ":   'character'isbn\n",
       ":   'character'isbn13\n",
       ":   'character'language_code\n",
       ":   'character'num_pages\n",
       ":   'integer'ratings_count\n",
       ":   'integer'text_reviews_count\n",
       ":   'integer'publication_date\n",
       ":   'character'publisher\n",
       ":   'character'num\n",
       ":   'factor'\n",
       "\n"
      ],
      "text/plain": [
       "            bookID              title            authors     average_rating \n",
       "         \"integer\"        \"character\"        \"character\"        \"character\" \n",
       "              isbn             isbn13      language_code          num_pages \n",
       "       \"character\"        \"character\"        \"character\"          \"integer\" \n",
       "     ratings_count text_reviews_count   publication_date          publisher \n",
       "         \"integer\"          \"integer\"        \"character\"        \"character\" \n",
       "               num \n",
       "          \"factor\" "
      ]
     },
     "metadata": {},
     "output_type": "display_data"
    }
   ],
   "source": [
    "sapply(books, class)"
   ]
  },
  {
   "cell_type": "code",
   "execution_count": 11,
   "id": "ca7b9df2",
   "metadata": {},
   "outputs": [
    {
     "data": {
      "text/html": [
       "<style>\n",
       ".dl-inline {width: auto; margin:0; padding: 0}\n",
       ".dl-inline>dt, .dl-inline>dd {float: none; width: auto; display: inline-block}\n",
       ".dl-inline>dt::after {content: \":\\0020\"; padding-right: .5ex}\n",
       ".dl-inline>dt:not(:first-of-type) {padding-left: .5ex}\n",
       "</style><dl class=dl-inline><dt>bookID</dt><dd>0</dd><dt>title</dt><dd>0</dd><dt>authors</dt><dd>0</dd><dt>average_rating</dt><dd>0</dd><dt>isbn</dt><dd>0</dd><dt>isbn13</dt><dd>0</dd><dt>language_code</dt><dd>0</dd><dt>num_pages</dt><dd>0</dd><dt>ratings_count</dt><dd>0</dd><dt>text_reviews_count</dt><dd>0</dd><dt>publication_date</dt><dd>0</dd><dt>publisher</dt><dd>0</dd><dt>num</dt><dd>0</dd></dl>\n"
      ],
      "text/latex": [
       "\\begin{description*}\n",
       "\\item[bookID] 0\n",
       "\\item[title] 0\n",
       "\\item[authors] 0\n",
       "\\item[average\\textbackslash{}\\_rating] 0\n",
       "\\item[isbn] 0\n",
       "\\item[isbn13] 0\n",
       "\\item[language\\textbackslash{}\\_code] 0\n",
       "\\item[num\\textbackslash{}\\_pages] 0\n",
       "\\item[ratings\\textbackslash{}\\_count] 0\n",
       "\\item[text\\textbackslash{}\\_reviews\\textbackslash{}\\_count] 0\n",
       "\\item[publication\\textbackslash{}\\_date] 0\n",
       "\\item[publisher] 0\n",
       "\\item[num] 0\n",
       "\\end{description*}\n"
      ],
      "text/markdown": [
       "bookID\n",
       ":   0title\n",
       ":   0authors\n",
       ":   0average_rating\n",
       ":   0isbn\n",
       ":   0isbn13\n",
       ":   0language_code\n",
       ":   0num_pages\n",
       ":   0ratings_count\n",
       ":   0text_reviews_count\n",
       ":   0publication_date\n",
       ":   0publisher\n",
       ":   0num\n",
       ":   0\n",
       "\n"
      ],
      "text/plain": [
       "            bookID              title            authors     average_rating \n",
       "                 0                  0                  0                  0 \n",
       "              isbn             isbn13      language_code          num_pages \n",
       "                 0                  0                  0                  0 \n",
       "     ratings_count text_reviews_count   publication_date          publisher \n",
       "                 0                  0                  0                  0 \n",
       "               num \n",
       "                 0 "
      ]
     },
     "metadata": {},
     "output_type": "display_data"
    }
   ],
   "source": [
    "books$average_rating[which(is.na(books$average_rating))] <- as.factor(\"3.0\")\n",
    "books <- books[!(books$ca %in% c(NA)),]\n",
    "colSums(is.na(books))"
   ]
  },
  {
   "cell_type": "code",
   "execution_count": 12,
   "id": "5bcba3d9",
   "metadata": {},
   "outputs": [
    {
     "data": {
      "text/html": [
       "<style>\n",
       ".dl-inline {width: auto; margin:0; padding: 0}\n",
       ".dl-inline>dt, .dl-inline>dd {float: none; width: auto; display: inline-block}\n",
       ".dl-inline>dt::after {content: \":\\0020\"; padding-right: .5ex}\n",
       ".dl-inline>dt:not(:first-of-type) {padding-left: .5ex}\n",
       "</style><dl class=dl-inline><dt>bookID</dt><dd>0</dd><dt>title</dt><dd>0</dd><dt>authors</dt><dd>0</dd><dt>average_rating</dt><dd>0</dd><dt>isbn</dt><dd>0</dd><dt>isbn13</dt><dd>0</dd><dt>language_code</dt><dd>0</dd><dt>num_pages</dt><dd>0</dd><dt>ratings_count</dt><dd>0</dd><dt>text_reviews_count</dt><dd>0</dd><dt>publication_date</dt><dd>0</dd><dt>publisher</dt><dd>0</dd><dt>num</dt><dd>0</dd></dl>\n"
      ],
      "text/latex": [
       "\\begin{description*}\n",
       "\\item[bookID] 0\n",
       "\\item[title] 0\n",
       "\\item[authors] 0\n",
       "\\item[average\\textbackslash{}\\_rating] 0\n",
       "\\item[isbn] 0\n",
       "\\item[isbn13] 0\n",
       "\\item[language\\textbackslash{}\\_code] 0\n",
       "\\item[num\\textbackslash{}\\_pages] 0\n",
       "\\item[ratings\\textbackslash{}\\_count] 0\n",
       "\\item[text\\textbackslash{}\\_reviews\\textbackslash{}\\_count] 0\n",
       "\\item[publication\\textbackslash{}\\_date] 0\n",
       "\\item[publisher] 0\n",
       "\\item[num] 0\n",
       "\\end{description*}\n"
      ],
      "text/markdown": [
       "bookID\n",
       ":   0title\n",
       ":   0authors\n",
       ":   0average_rating\n",
       ":   0isbn\n",
       ":   0isbn13\n",
       ":   0language_code\n",
       ":   0num_pages\n",
       ":   0ratings_count\n",
       ":   0text_reviews_count\n",
       ":   0publication_date\n",
       ":   0publisher\n",
       ":   0num\n",
       ":   0\n",
       "\n"
      ],
      "text/plain": [
       "            bookID              title            authors     average_rating \n",
       "                 0                  0                  0                  0 \n",
       "              isbn             isbn13      language_code          num_pages \n",
       "                 0                  0                  0                  0 \n",
       "     ratings_count text_reviews_count   publication_date          publisher \n",
       "                 0                  0                  0                  0 \n",
       "               num \n",
       "                 0 "
      ]
     },
     "metadata": {},
     "output_type": "display_data"
    }
   ],
   "source": [
    "books[ books == \"?\"] <- NA\n",
    "colSums(is.na(books))"
   ]
  },
  {
   "cell_type": "code",
   "execution_count": 13,
   "id": "9ba41901",
   "metadata": {},
   "outputs": [],
   "source": [
    "books$average_rating <- factor(books$average_rating)\n",
    "books$average_rating <- factor(books$average_rating)\n"
   ]
  },
  {
   "cell_type": "code",
   "execution_count": 14,
   "id": "1c08f497",
   "metadata": {},
   "outputs": [
    {
     "data": {
      "text/plain": [
       "     bookID       title             authors          average_rating\n",
       " Min.   : NA   Length:0           Length:0           NULL:         \n",
       " 1st Qu.: NA   Class :character   Class :character                 \n",
       " Median : NA   Mode  :character   Mode  :character                 \n",
       " Mean   :NaN                                                       \n",
       " 3rd Qu.: NA                                                       \n",
       " Max.   : NA                                                       \n",
       "     isbn              isbn13          language_code        num_pages  \n",
       " Length:0           Length:0           Length:0           Min.   : NA  \n",
       " Class :character   Class :character   Class :character   1st Qu.: NA  \n",
       " Mode  :character   Mode  :character   Mode  :character   Median : NA  \n",
       "                                                          Mean   :NaN  \n",
       "                                                          3rd Qu.: NA  \n",
       "                                                          Max.   : NA  \n",
       " ratings_count text_reviews_count publication_date    publisher         num  \n",
       " Min.   : NA   Min.   : NA        Length:0           Length:0            :0  \n",
       " 1st Qu.: NA   1st Qu.: NA        Class :character   Class :character   0:0  \n",
       " Median : NA   Median : NA        Mode  :character   Mode  :character   1:0  \n",
       " Mean   :NaN   Mean   :NaN                                                   \n",
       " 3rd Qu.: NA   3rd Qu.: NA                                                   \n",
       " Max.   : NA   Max.   : NA                                                   "
      ]
     },
     "metadata": {},
     "output_type": "display_data"
    }
   ],
   "source": [
    "summary(books)"
   ]
  },
  {
   "cell_type": "code",
   "execution_count": 15,
   "id": "3676c53b",
   "metadata": {},
   "outputs": [
    {
     "ename": "ERROR",
     "evalue": "Error in sample.split(books$num, SplitRatio = 0.75): Error in sample.split: 'SplitRatio' parameter has to be i [0, 1] range or [1, length(Y)] range\n",
     "output_type": "error",
     "traceback": [
      "Error in sample.split(books$num, SplitRatio = 0.75): Error in sample.split: 'SplitRatio' parameter has to be i [0, 1] range or [1, length(Y)] range\nTraceback:\n",
      "1. sample.split(books$num, SplitRatio = 0.75)",
      "2. stop(\"Error in sample.split: 'SplitRatio' parameter has to be i [0, 1] range or [1, length(Y)] range\")"
     ]
    }
   ],
   "source": [
    "sample = sample.split(books$num, SplitRatio = 0.75)\n",
    "\n",
    "train = subset(books, sample == TRUE)\n",
    "test  = subset(books, sample == FALSE)\n",
    "\n",
    "dim(train)\n",
    "dim(test)"
   ]
  },
  {
   "cell_type": "code",
   "execution_count": 67,
   "id": "b1152b18",
   "metadata": {},
   "outputs": [
    {
     "ename": "ERROR",
     "evalue": "Error in terms.formula(formula, data = data): '.' in formula and no 'data' argument\n",
     "output_type": "error",
     "traceback": [
      "Error in terms.formula(formula, data = data): '.' in formula and no 'data' argument\nTraceback:\n",
      "1. as.formula(randomForest(num ~ ., books = train))",
      "2. randomForest(num ~ ., books = train)",
      "3. randomForest.formula(num ~ ., books = train)",
      "4. eval(m, parent.frame())",
      "5. eval(m, parent.frame())",
      "6. model.frame(formula = num ~ ., na.action = function (object, \n .     ...) \n . UseMethod(\"na.fail\"))",
      "7. model.frame.default(formula = num ~ ., na.action = function (object, \n .     ...) \n . UseMethod(\"na.fail\"))",
      "8. terms(formula, data = data)",
      "9. terms.formula(formula, data = data)"
     ]
    }
   ],
   "source": [
    "rf <- as.formula(randomForest(\n",
    "  num ~ .,\n",
    "  books=train\n",
    "))"
   ]
  },
  {
   "cell_type": "code",
   "execution_count": 68,
   "id": "adff0939",
   "metadata": {},
   "outputs": [
    {
     "ename": "ERROR",
     "evalue": "Error in UseMethod(\"predict\"): no applicable method for 'predict' applied to an object of class \"function\"\n",
     "output_type": "error",
     "traceback": [
      "Error in UseMethod(\"predict\"): no applicable method for 'predict' applied to an object of class \"function\"\nTraceback:\n",
      "1. predict(rf, newdata = test[-14])"
     ]
    }
   ],
   "source": [
    "pred = predict(rf, newdata=test[-14])"
   ]
  },
  {
   "cell_type": "code",
   "execution_count": 69,
   "id": "be0ca2ac",
   "metadata": {},
   "outputs": [
    {
     "ename": "ERROR",
     "evalue": "Error in table(test[, 14], pred): object 'test' not found\n",
     "output_type": "error",
     "traceback": [
      "Error in table(test[, 14], pred): object 'test' not found\nTraceback:\n",
      "1. table(test[, 14], pred)"
     ]
    }
   ],
   "source": [
    "cm = table(test[,14], pred)"
   ]
  },
  {
   "cell_type": "code",
   "execution_count": null,
   "id": "2eb3fc18",
   "metadata": {},
   "outputs": [],
   "source": []
  }
 ],
 "metadata": {
  "kernelspec": {
   "display_name": "R",
   "language": "R",
   "name": "ir"
  },
  "language_info": {
   "codemirror_mode": "r",
   "file_extension": ".r",
   "mimetype": "text/x-r-source",
   "name": "R",
   "pygments_lexer": "r",
   "version": "4.1.0"
  }
 },
 "nbformat": 4,
 "nbformat_minor": 5
}
